{
 "cells": [
  {
   "cell_type": "code",
   "execution_count": 2,
   "metadata": {
    "collapsed": true
   },
   "outputs": [],
   "source": [
    "def leap_year(year):\n",
    "    if year % 4 == 0 and year %100 != 0 or year % 400 == 0:\n",
    "        return True\n",
    "    else:\n",
    "        return False"
   ]
  },
  {
   "cell_type": "code",
   "execution_count": 3,
   "metadata": {
    "collapsed": true
   },
   "outputs": [],
   "source": [
    "def mean_0(time_0,x,y,n,set_point,lon_input,lat_input,time_input,temp_input):# n is the periods in a day.\n",
    "    import numpy as np\n",
    "    long = lon_input #Defining the variables in the netcdf file and assigning them \n",
    "    lats = lat_input\n",
    "    time = temp_input\n",
    "    x_new=((x%time_0)*(n*365)) \n",
    "    y_new=((y%time_0)*(n*365))\n",
    "    number_of_years=y-x\n",
    "    time_period=time[x_new:y_new] \n",
    "    temperature = temp_input[x_new:y_new][:][:]\n",
    "    temperature_new= np.empty((len(time_period)/n, len(lats),len(long)), dtype=np.float32)\n",
    "    for i in range(len(temperature_new)):   \n",
    "        temperature_new[i]= (np.sum(temperature[(i*n):((i+1)*n)],axis=0))/4\n",
    "    temperature_mean=np.empty((365,len(lats),len(long)), dtype=np.float32)\n",
    "    for i in range(365):\n",
    "        for j in range(number_of_years):\n",
    "            temperature_mean[i]= temperature_new[i+365*j]+temperature_mean[i]\n",
    "    temperature_mean=temperature_mean/number_of_years\n",
    "    temperature_mean = np.subtract(temperature_mean,(273.16+set_point))\n",
    "    time_for_mean=np.arange(1,366,1)\n",
    "    return (temperature_mean)"
   ]
  },
  {
   "cell_type": "code",
   "execution_count": 4,
   "metadata": {
    "collapsed": true
   },
   "outputs": [],
   "source": [
    "def max_0(time_0,x,y,n,set_point,lon_input,lat_input,time_input,temp_input):\n",
    "    import numpy as np\n",
    "    long = lon_input\n",
    "    lats = lat_input\n",
    "    time = temp_input\n",
    "    x_new=((x%time_0)*(n*365)) \n",
    "    y_new=((y%time_0)*(n*365))\n",
    "    number_of_years=y-x\n",
    "    time_period=time[x_new:y_new] \n",
    "    temperature = temp_input[x_new:y_new][:][:]\n",
    "    temperature_new= np.empty((len(time_period)/n, len(lats),len(long)), dtype=np.float32)\n",
    "    for i in range(len(temperature_new)):   \n",
    "        temperature_new[i]= np.max(temperature[(i*n):((i+1)*n)],axis=0)\n",
    "    temperature_max=np.empty((365,len(lats),len(long)), dtype=np.float32)\n",
    "    for i in range(365):\n",
    "        for j in range(number_of_years):\n",
    "            temperature_max[i]= temperature_new[i+365*j]+temperature_max[i]\n",
    "    temperature_max=temperature_max/number_of_years\n",
    "    temperature_max = np.subtract(temperature_max,(273.16+set_point))\n",
    "    time_for_max=np.arange(1,366,1)\n",
    "    return (temperature_max)"
   ]
  },
  {
   "cell_type": "code",
   "execution_count": 5,
   "metadata": {
    "collapsed": true
   },
   "outputs": [],
   "source": [
    "def min_0(time_0,x,y,n,set_point,lon_input,lat_input,time_input,temp_input):# n is the periods in a day.\n",
    "    import numpy as np\n",
    "    long = lon_input\n",
    "    lats = lat_input\n",
    "    time = temp_input\n",
    "    x_new=((x%time_0)*(n*365)) \n",
    "    y_new=((y%time_0)*(n*365))\n",
    "    number_of_years=y-x\n",
    "    time_period=time[x_new:y_new] \n",
    "    temperature = temp_input[x_new:y_new][:][:]\n",
    "    temperature_new= np.empty((len(time_period)/n, len(lats),len(long)), dtype=np.float32)\n",
    "    for i in range(len(temperature_new)):   \n",
    "        temperature_new[i]= np.min(temperature[(i*n):((i+1)*n)],axis=0)\n",
    "    temperature_min=np.empty((365,len(lats),len(long)), dtype=np.float32)\n",
    "    for i in range(365):\n",
    "        for j in range(number_of_years):\n",
    "            temperature_min[i]= temperature_new[i+365*j]+temperature_min[i]\n",
    "    temperature_min=temperature_min/number_of_years\n",
    "    temperature_min = np.subtract(temperature_min,(273.16+set_point))\n",
    "    time_for_min=np.arange(1,366,1)\n",
    "    return (temperature_min)"
   ]
  },
  {
   "cell_type": "code",
   "execution_count": 6,
   "metadata": {
    "collapsed": true
   },
   "outputs": [],
   "source": [
    "def two_point_average(time_0,x,y,n,set_point,lon_input,lat_input,time_input,temp_input):\n",
    "    import numpy as np\n",
    "    long = lon_input\n",
    "    lats = lat_input\n",
    "    time = temp_input\n",
    "    x_new=((x%time_0)*(n*365)) \n",
    "    y_new=((y%time_0)*(n*365))\n",
    "    number_of_years=y-x\n",
    "    time_period=time[x_new:y_new] \n",
    "    temperature = temp_input[x_new:y_new][:][:]\n",
    "    temperature_new= np.empty((len(time_period)/n, len(lats),len(long)), dtype=np.float32)\n",
    "    for i in range(len(temperature_new)):   \n",
    "        temperature_new[i]= (np.min(temperature[(i*n):((i+1)*n)],axis=0)+np.max(temperature[(i*n):((i+1)*n)],axis=0))/2\n",
    "    temperature_2_point=np.empty((365,len(lats),len(long)), dtype=np.float32)\n",
    "    for i in range(365):\n",
    "        for j in range(number_of_years):\n",
    "            temperature_2_point[i]= temperature_new[i+365*j]+temperature_2_point[i]\n",
    "    temperature_2_point=temperature_2_point/number_of_years\n",
    "    temperature_2_point = np.subtract(temperature_2_point,(273.16+set_point))\n",
    "    time_for_min=np.arange(1,366,1)\n",
    "    return (temperature_2_point)"
   ]
  },
  {
   "cell_type": "code",
   "execution_count": null,
   "metadata": {
    "collapsed": false
   },
   "outputs": [],
   "source": [
    "def new_HDD(temp_0,x,y,n,set_point):\n",
    "    import numpy as np\n",
    "    from netCDF4 import Dataset\n",
    "    nc=Dataset('/Users/Bora/Desktop/Bond/HDD_20/01.nc','r')\n",
    "    for i in nc.variables:\n",
    "        print ([i,nc.variables[i].units,nc.variables[i].shape])\n",
    "    lons_0 = np.array(nc.variables['longitude'][:],dtype=np.float32)\n",
    "    lats_0 = np.array(nc.variables ['latitude'][:],dtype=np.float32)\n",
    "    time_0 = np.array(nc.variables ['time'][:],dtype=np.float32)\n",
    "    print(\"About to create temp_0_part1\")\n",
    "    slice_int=int(len(time_0)/2)\n",
    "    temperature_0_part1 = np.array(nc.variables['t2m'][:slice_int],dtype=np.float16)\n",
    "    print(\"About to create temp_0_part2\")\n",
    "    temperature_0_part2 = np.array(nc.variables['t2m'][slice_int:],dtype=np.float16)\n",
    "    print(\"Initialized arrays\")\n",
    "    temperature_0=np.vstack((temperature_0_part1,temperature_0_part2))\n",
    "    time_new=np.empty([43800],dtype=np.float32)\n",
    "    temperature_new = np.empty([43800,241,480],dtype=np.float16)\n",
    "    nc.close()\n",
    "    print(\"Initialized temperature_new & time_new\")\n",
    "    leap_counter = 0\n",
    "    holder=0\n",
    "    for i in range(x,y):\n",
    "        holder = (i-temp_0)*365*4\n",
    "        feb_0=((i-temp_0)*365+31+28+leap_counter)*24/6\n",
    "        feb_1= ((i-temp_0)*365+31+28)*24/6\n",
    "        if ( leap_year(i)):\n",
    "            #copy all the dates except for feb 29\n",
    "            temperature_new[holder :feb_1]=temperature_0[(holder+leap_counter*4):feb_0]\n",
    "            time_new[holder :feb_1]=time_0[(holder+leap_counter*4):feb_0]\n",
    "            holder=holder+365*4\n",
    "            leap_counter=leap_counter+1\n",
    "            temperature_new[feb_1: holder]=temperature_0[(feb_0+4):(holder+4*leap_counter)]\n",
    "            time_new[feb_1: holder]=time_0[(feb_0+4):(holder+4*leap_counter)]\n",
    "        else:\n",
    "            #copy whole year\n",
    "            temperature_new[holder :(holder+365*4)]=temperature_0[(holder+leap_counter*4):(holder+leap_counter*4+365*4)]\n",
    "            time_new[holder :(holder+365*4)]=time_0[(holder+leap_counter*4):(holder+leap_counter*4+365*4)]\n",
    "            holder=holder+365*4\n",
    "    print(\"Finished extracting Feb 29\")\n",
    "    mean_temp = mean_0(temp_0,x,y,n,set_point,lons_0,lats_0,time_new,temperature_new)\n",
    "    max_temp = max_0(temp_0,x,y,n,set_point,lons_0,lats_0,time_new,temperature_new)\n",
    "    min_temp = min_0(temp_0,x,y,n,set_point,lons_0,lats_0,time_new,temperature_new)\n",
    "    point_2_temp= two_point_average(temp_0,x,y,n,set_point,lons_0,lats_0,time_new,temperature_new)\n",
    "    print(\"Finished different calculation methods\")\n",
    "    time= np.arange(1,366,1)\n",
    "    lats=lats_0\n",
    "    long=lons_0\n",
    "    for i in range (len(time)):\n",
    "       for j in range (len(lats)):\n",
    "           for k in range (len(long)):\n",
    "               if (mean_temp[i][j][k]>0.0):\n",
    "                   mean_temp[i][j][k] =0.0\n",
    "               if (max_temp[i][j][k]>0.0):\n",
    "                   max_temp[i][j][k] =0.0\n",
    "               if (min_temp[i][j][k]>0.0):\n",
    "                   min_temp[i][j][k] =0.0\n",
    "               if (point_2_temp[i][j][k]>0.0):\n",
    "                   point_2_temp[i][j][k] =0.0\n",
    "    mean_t2m= np.empty((len(lats),len(long)), dtype=np.float32)\n",
    "    max_t2m= np.empty((len(lats),len(long)), dtype=np.float32)\n",
    "    min_t2m= np.empty((len(lats),len(long)), dtype=np.float32)\n",
    "    point_2_t2m=np.empty((len(lats),len(long)), dtype=np.float32)\n",
    "    for i in range (365):\n",
    "        mean_t2m = mean_t2m+mean_temp[i]\n",
    "        max_t2m = max_t2m+max_temp[i]\n",
    "        min_t2m = min_t2m+min_temp[i]\n",
    "        point_2_t2m=point_2_t2m+point_2_temp[i]\n",
    "    print(\"Finished analyses, extracting data.\")\n",
    "    year_number=y-x\n",
    "    cmplgrp = Dataset('/Users/Bora/Desktop/Bond/HDD_'+str(year_number)+'/HDD_'+str(year_number)+'_'+str(set_point)+'.nc', mode='w', format='NETCDF3_CLASSIC')\n",
    "    cmplgrp.close()\n",
    "    \n",
    "    cmplgrp = Dataset('/Users/Bora/Desktop/Bond/HDD_'+str(year_number)+'/HDD_'+str(year_number)+'_'+str(set_point)+'.nc','a')\n",
    "    \n",
    "    lat= cmplgrp.createDimension('latitude', 241)\n",
    "    lon= cmplgrp.createDimension('longitude', 480)\n",
    "    \n",
    "    latitudes= cmplgrp.createVariable('latitude',np.float32,('latitude',))\n",
    "    longitudes=cmplgrp.createVariable('longitude',np.float32,('longitude',))\n",
    "    temp_mean= cmplgrp.createVariable('t2m_mean',np.short,('latitude','longitude',))\n",
    "    temp_min= cmplgrp.createVariable('t2m_min',np.short,('latitude','longitude',))\n",
    "    temp_max= cmplgrp.createVariable('t2m_max',np.short,('latitude','longitude',))\n",
    "    temp_2point=cmplgrp.createVariable('t2m_2point',np.short,('latitude','longitude',))\n",
    "    \n",
    "    import time\n",
    "    cmplgrp.history = 'Created ' + time.ctime(time.time())\n",
    "    cmplgrp.Conventions = 'CF-1.6'\n",
    "    \n",
    "    latitudes.long_name = 'latitude'\n",
    "    latitudes.units = 'degrees_north'\n",
    "    \n",
    "    longitudes.units = 'degrees_east'\n",
    "    longitudes.long_name='longitude'\n",
    "    \n",
    "    temp_mean.long_name = '2 meter mean temperature averages for 20 years'\n",
    "    temp_mean.units = 'K'\n",
    "    temp_mean.scale_factor = 1\n",
    "    temp_mean.add_offset=0\n",
    "    temp_mean.fill_value=-32767\n",
    "    temp_mean.missing_value = -32767\n",
    "    \n",
    "    temp_min.long_name = '2 meter min temperature averages for 20 years'\n",
    "    temp_min.units = 'K'\n",
    "    temp_min.scale_factor = 1\n",
    "    temp_min.add_offset=0\n",
    "    temp_min.fill_value=-32767\n",
    "    temp_min.missing_value = -32767\n",
    "    \n",
    "    temp_max.long_name = '2 meter max temperature averages for 20 years'\n",
    "    temp_max.units = 'K'\n",
    "    temp_max.scale_factor = 1\n",
    "    temp_max.add_offset=0\n",
    "    temp_max.fill_value=-32767\n",
    "    temp_max.missing_value = -32767\n",
    "    \n",
    "    temp_2point.long_name = '2 meter max temperature averages for 20 years'\n",
    "    temp_2point.units = 'K'\n",
    "    temp_2point.scale_factor = 1\n",
    "    temp_2point.add_offset=0\n",
    "    temp_2point.fill_value=-32767\n",
    "    temp_2point.missing_value = -32767\n",
    "    \n",
    "    latitudes[:]= lats\n",
    "    longitudes[:]=long\n",
    "    temp_mean[:]=mean_t2m\n",
    "    temp_min[:]=min_t2m\n",
    "    temp_max[:]=max_t2m\n",
    "    temp_2point[:]=point_2_t2m\n",
    "    \n",
    "    cmplgrp.close()"
   ]
  },
  {
   "cell_type": "code",
   "execution_count": null,
   "metadata": {
    "collapsed": false,
    "scrolled": true
   },
   "outputs": [
    {
     "name": "stdout",
     "output_type": "stream",
     "text": [
      "['longitude', 'degrees_east', (480,)]\n",
      "['latitude', 'degrees_north', (241,)]\n",
      "['time', 'hours since 1900-01-01 00:00:0.0', (29220,)]\n",
      "['t2m', 'K', (29220, 241, 480)]\n",
      "About to create temp_0_part1\n",
      "About to create temp_0_part2\n",
      "Initialized arrays\n",
      "Initialized temperature_new & time_new\n"
     ]
    },
    {
     "name": "stderr",
     "output_type": "stream",
     "text": [
      "/Users/Bora/anaconda/lib/python3.5/site-packages/ipykernel/__main__.py:29: DeprecationWarning: using a non-integer number instead of an integer will result in an error in the future\n",
      "/Users/Bora/anaconda/lib/python3.5/site-packages/ipykernel/__main__.py:30: DeprecationWarning: using a non-integer number instead of an integer will result in an error in the future\n",
      "/Users/Bora/anaconda/lib/python3.5/site-packages/ipykernel/__main__.py:33: DeprecationWarning: using a non-integer number instead of an integer will result in an error in the future\n",
      "/Users/Bora/anaconda/lib/python3.5/site-packages/ipykernel/__main__.py:34: DeprecationWarning: using a non-integer number instead of an integer will result in an error in the future\n"
     ]
    },
    {
     "name": "stdout",
     "output_type": "stream",
     "text": [
      "Finished extracting Feb 29\n"
     ]
    },
    {
     "name": "stderr",
     "output_type": "stream",
     "text": [
      "/Users/Bora/anaconda/lib/python3.5/site-packages/ipykernel/__main__.py:11: DeprecationWarning: using a non-integer number instead of an integer will result in an error in the future\n"
     ]
    },
    {
     "name": "stdout",
     "output_type": "stream",
     "text": [
      "Finished different calculation methods\n",
      "Finished analyses, extracting data.\n"
     ]
    }
   ],
   "source": [
    "new_HDD(1996,1996,2016,4,18)"
   ]
  },
  {
   "cell_type": "code",
   "execution_count": null,
   "metadata": {
    "collapsed": true
   },
   "outputs": [],
   "source": [
    "cmplgrp.close()"
   ]
  },
  {
   "cell_type": "code",
   "execution_count": null,
   "metadata": {
    "collapsed": true
   },
   "outputs": [],
   "source": []
  }
 ],
 "metadata": {
  "kernelspec": {
   "display_name": "Python 3",
   "language": "python",
   "name": "python3"
  },
  "language_info": {
   "codemirror_mode": {
    "name": "ipython",
    "version": 3
   },
   "file_extension": ".py",
   "mimetype": "text/x-python",
   "name": "python",
   "nbconvert_exporter": "python",
   "pygments_lexer": "ipython3",
   "version": "3.5.2"
  }
 },
 "nbformat": 4,
 "nbformat_minor": 0
}
